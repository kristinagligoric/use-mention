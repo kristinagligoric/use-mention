{
 "cells": [
  {
   "cell_type": "code",
   "execution_count": 1,
   "id": "969aced6",
   "metadata": {},
   "outputs": [],
   "source": [
    "#import libraries\n",
    "import pandas as pd\n",
    "import seaborn as sns\n",
    "%matplotlib inline\n",
    "import numpy as np\n",
    "from sklearn.metrics import roc_auc_score\n",
    "from scipy import stats\n",
    "from scipy.stats import norm\n",
    "import matplotlib.pyplot as plt\n",
    "import math\n",
    "import math\n",
    "n_samples = 100\n",
    "from scipy.stats import chi2_contingency\n",
    "\n",
    "#helpers for calculating metrics\n",
    "def calculate_metrics(list_o, list_d):\n",
    "    \n",
    "    return 100*sum(list_o)/len(list_o),\\\n",
    "    100*sum(list_d)/len(list_d),\\\n",
    "    ((100 - 100*sum(list_o)/len(list_o))+  100*sum(list_d)/len(list_d))/2\n",
    "    \n",
    "def bootstrap_CI(list_o, list_d):\n",
    "    us = []\n",
    "    ms = []\n",
    "    rs = []\n",
    "    \n",
    "    for i in range(n_samples):\n",
    "        list_o_tmp = list_o.sample(len(list_o), replace = True)\n",
    "        list_d_tmp = list_d.iloc[list_o_tmp.index]\n",
    "\n",
    "        us.append(sum(list_o_tmp)/len(list_o_tmp))\n",
    "        ms.append(sum(list_d_tmp)/len(list_d_tmp))\n",
    "        rs.append((100*sum(list_d_tmp)/len(list_d_tmp) + (100 - sum(list_o_tmp)/len(list_o_tmp)))/2)\n",
    "        \n",
    "    return [100*np.nanpercentile(us,2.5), 100*np.nanpercentile(us,97.5),\\\n",
    "        100*np.nanpercentile(ms,2.5), 100*np.nanpercentile(ms,97.5),\\\n",
    "        np.nanpercentile(rs,2.5), np.nanpercentile(rs,97.5),\\\n",
    "        100*np.nanpercentile(us,50), \\\n",
    "        100*np.nanpercentile(ms,50), \\\n",
    "        np.nanpercentile(rs,50)]\n",
    "\n",
    "def add_noise(value):\n",
    "    noise = np.random.uniform(1,1)  # Adjust the range as needed\n",
    "    return value + noise\n",
    "\n",
    "#load the classifications\n",
    "table = pd.read_csv('data/task2.csv')"
   ]
  },
  {
   "cell_type": "markdown",
   "id": "ddc8c828",
   "metadata": {},
   "source": [
    "### Calculate metrics for the hate subtask"
   ]
  },
  {
   "cell_type": "code",
   "execution_count": 2,
   "id": "9cc2404b",
   "metadata": {},
   "outputs": [],
   "source": [
    "df = table.loc[table.subtask=='hate'].reset_index()\n",
    "\n",
    "models = ['perspective_insult','perspective_toxicity',\n",
    "          'perspective_identity_attack',\n",
    "           'score_tomh/toxigen_hatebert', \n",
    "           'label_gpt3.5',\n",
    "           'label_gpt4','label_gpt3.5instruct',\n",
    "            'score_facebook/roberta-hate-speech-dynabench-r4-target']\n",
    "\n",
    "thresholds = [0.3,0.3,0.3,0.5,0.5,0.5,0.5,0.5]\n",
    "\n",
    "list_entries = []\n",
    "for cnt,model in enumerate(models):\n",
    "    entry = {}\n",
    "    entry['task'] = 'hate speech'\n",
    "    entry['model'] = model\n",
    "    \n",
    "    for name,gr in df.sort_values(by = 'text_original').groupby('type'):\n",
    "        if name=='disapproving':\n",
    "            list_d =  gr[model]> thresholds[cnt]\n",
    "        elif name=='original':\n",
    "            list_o =  gr[model]> thresholds[cnt]\n",
    "           \n",
    "    flagged_u, flagged_m, avg = calculate_metrics(list_o, list_d)\n",
    "    \n",
    "    entry['False positive rate'] = flagged_m\n",
    "    entry['False negative rate'] = 100-flagged_u\n",
    "    entry['Average error rate'] = avg\n",
    "\n",
    "    entry[\"False negative rate\"+\" lower\"], entry[\"False negative rate\"+\" upper\"], entry[\"False positive rate\"+\" lower\"], entry[\"False positive rate\"+\" upper\"],\\\n",
    "    entry[\"Average error rate\"+\" lower\"], entry[\"Average error rate\"+\" upper\"],  entry[\"False negative rate\"+\" median\"],  entry[\"False positive rate\"+\" median\"],entry[\"Average error rate\"+\"_median\"] = \\\n",
    "    bootstrap_CI(list_o, list_d)\n",
    "    \n",
    "    list_entries.append(entry)"
   ]
  },
  {
   "cell_type": "code",
   "execution_count": 3,
   "id": "f73b821c",
   "metadata": {},
   "outputs": [],
   "source": [
    "res = pd.DataFrame(list_entries)\n",
    "res['False positive rate error'] = (res['False positive rate upper'] - res['False positive rate lower'])/2\n",
    "res['False negative rate error'] = (res['False negative rate upper'] - res['False negative rate lower'])/2\n",
    "res['Average error rate error'] = (res['False positive rate error'] + res['False negative rate error'])/2"
   ]
  },
  {
   "cell_type": "code",
   "execution_count": 4,
   "id": "c07ab5f8",
   "metadata": {},
   "outputs": [
    {
     "data": {
      "text/html": [
       "<div>\n",
       "<style scoped>\n",
       "    .dataframe tbody tr th:only-of-type {\n",
       "        vertical-align: middle;\n",
       "    }\n",
       "\n",
       "    .dataframe tbody tr th {\n",
       "        vertical-align: top;\n",
       "    }\n",
       "\n",
       "    .dataframe thead th {\n",
       "        text-align: right;\n",
       "    }\n",
       "</style>\n",
       "<table border=\"1\" class=\"dataframe\">\n",
       "  <thead>\n",
       "    <tr style=\"text-align: right;\">\n",
       "      <th></th>\n",
       "      <th>task</th>\n",
       "      <th>model</th>\n",
       "      <th>False positive rate</th>\n",
       "      <th>False positive rate error</th>\n",
       "      <th>False negative rate</th>\n",
       "      <th>False negative rate error</th>\n",
       "      <th>Average error rate</th>\n",
       "      <th>Average error rate error</th>\n",
       "    </tr>\n",
       "  </thead>\n",
       "  <tbody>\n",
       "    <tr>\n",
       "      <th>3</th>\n",
       "      <td>hate speech</td>\n",
       "      <td>score_tomh/toxigen_hatebert</td>\n",
       "      <td>24.44</td>\n",
       "      <td>8.62</td>\n",
       "      <td>77.78</td>\n",
       "      <td>8.07</td>\n",
       "      <td>51.11</td>\n",
       "      <td>8.35</td>\n",
       "    </tr>\n",
       "    <tr>\n",
       "      <th>0</th>\n",
       "      <td>hate speech</td>\n",
       "      <td>perspective_insult</td>\n",
       "      <td>4.44</td>\n",
       "      <td>3.62</td>\n",
       "      <td>61.11</td>\n",
       "      <td>8.62</td>\n",
       "      <td>32.78</td>\n",
       "      <td>6.12</td>\n",
       "    </tr>\n",
       "    <tr>\n",
       "      <th>1</th>\n",
       "      <td>hate speech</td>\n",
       "      <td>perspective_toxicity</td>\n",
       "      <td>20.00</td>\n",
       "      <td>9.47</td>\n",
       "      <td>36.67</td>\n",
       "      <td>10.90</td>\n",
       "      <td>28.33</td>\n",
       "      <td>10.19</td>\n",
       "    </tr>\n",
       "    <tr>\n",
       "      <th>2</th>\n",
       "      <td>hate speech</td>\n",
       "      <td>perspective_identity_attack</td>\n",
       "      <td>21.11</td>\n",
       "      <td>9.47</td>\n",
       "      <td>33.33</td>\n",
       "      <td>8.89</td>\n",
       "      <td>27.22</td>\n",
       "      <td>9.18</td>\n",
       "    </tr>\n",
       "    <tr>\n",
       "      <th>7</th>\n",
       "      <td>hate speech</td>\n",
       "      <td>score_facebook/roberta-hate-speech-dynabench-r...</td>\n",
       "      <td>17.78</td>\n",
       "      <td>8.07</td>\n",
       "      <td>26.67</td>\n",
       "      <td>8.63</td>\n",
       "      <td>22.22</td>\n",
       "      <td>8.35</td>\n",
       "    </tr>\n",
       "    <tr>\n",
       "      <th>6</th>\n",
       "      <td>hate speech</td>\n",
       "      <td>label_gpt3.5instruct</td>\n",
       "      <td>25.56</td>\n",
       "      <td>9.44</td>\n",
       "      <td>13.33</td>\n",
       "      <td>6.67</td>\n",
       "      <td>19.44</td>\n",
       "      <td>8.06</td>\n",
       "    </tr>\n",
       "    <tr>\n",
       "      <th>4</th>\n",
       "      <td>hate speech</td>\n",
       "      <td>label_gpt3.5</td>\n",
       "      <td>11.11</td>\n",
       "      <td>6.69</td>\n",
       "      <td>22.22</td>\n",
       "      <td>8.07</td>\n",
       "      <td>16.67</td>\n",
       "      <td>7.38</td>\n",
       "    </tr>\n",
       "    <tr>\n",
       "      <th>5</th>\n",
       "      <td>hate speech</td>\n",
       "      <td>label_gpt4</td>\n",
       "      <td>8.89</td>\n",
       "      <td>6.14</td>\n",
       "      <td>20.00</td>\n",
       "      <td>9.44</td>\n",
       "      <td>14.44</td>\n",
       "      <td>7.79</td>\n",
       "    </tr>\n",
       "  </tbody>\n",
       "</table>\n",
       "</div>"
      ],
      "text/plain": [
       "          task                                              model  \\\n",
       "3  hate speech                        score_tomh/toxigen_hatebert   \n",
       "0  hate speech                                 perspective_insult   \n",
       "1  hate speech                               perspective_toxicity   \n",
       "2  hate speech                        perspective_identity_attack   \n",
       "7  hate speech  score_facebook/roberta-hate-speech-dynabench-r...   \n",
       "6  hate speech                               label_gpt3.5instruct   \n",
       "4  hate speech                                       label_gpt3.5   \n",
       "5  hate speech                                         label_gpt4   \n",
       "\n",
       "   False positive rate  False positive rate error  False negative rate  \\\n",
       "3                24.44                       8.62                77.78   \n",
       "0                 4.44                       3.62                61.11   \n",
       "1                20.00                       9.47                36.67   \n",
       "2                21.11                       9.47                33.33   \n",
       "7                17.78                       8.07                26.67   \n",
       "6                25.56                       9.44                13.33   \n",
       "4                11.11                       6.69                22.22   \n",
       "5                 8.89                       6.14                20.00   \n",
       "\n",
       "   False negative rate error  Average error rate  Average error rate error  \n",
       "3                       8.07               51.11                      8.35  \n",
       "0                       8.62               32.78                      6.12  \n",
       "1                      10.90               28.33                     10.19  \n",
       "2                       8.89               27.22                      9.18  \n",
       "7                       8.63               22.22                      8.35  \n",
       "6                       6.67               19.44                      8.06  \n",
       "4                       8.07               16.67                      7.38  \n",
       "5                       9.44               14.44                      7.79  "
      ]
     },
     "execution_count": 4,
     "metadata": {},
     "output_type": "execute_result"
    }
   ],
   "source": [
    "(res[['task', 'model', 'False positive rate', 'False positive rate error',\n",
    "      'False negative rate','False negative rate error',  \n",
    "      'Average error rate','Average error rate error']].sort_values(by = 'Average error rate', ascending = False)).round(2)"
   ]
  },
  {
   "cell_type": "code",
   "execution_count": 5,
   "id": "31fad577",
   "metadata": {},
   "outputs": [],
   "source": [
    "labels_clean = {\n",
    "    \"score_tomh/toxigen_hatebert\": \"toxigen hatebert\",\n",
    "    \"perspective_identity_attack\": \"perspective (identity attack)\",\n",
    "    \"perspective_toxicity\": \"perspective (toxicity)\",\n",
    "    \"label_gpt3.5instruct\": \"gpt-3.5-instruct-turbo\",\n",
    "    \"score_facebook/roberta-hate-speech-dynabench-r4-target\": \"roberta hate speech\",\n",
    "    \"label_gpt3.5\": \"gpt-3.5-turbo (ChatGPT 3.5)\",\n",
    "    \"perspective_insult\": \"perspective (insult)\",\n",
    "    \"label_gpt4\": \"gpt-4\",\n",
    "}"
   ]
  },
  {
   "cell_type": "code",
   "execution_count": 6,
   "id": "6e75e415",
   "metadata": {},
   "outputs": [
    {
     "data": {
      "image/png": "[encoded data removed]",
      "text/plain": [
       "<Figure size 250x250 with 1 Axes>"
      ]
     },
     "metadata": {},
     "output_type": "display_data"
    }
   ],
   "source": [
    "mStyles = [\".\",\",\",\"<\",\">\",\"*\",\"h\",\"+\",\"x\",\"X\",\"D\",\"d\",\"|\",\"_\",0,1,2,3,4,5,6,7,8,9,10,11\n",
    "]\n",
    "\n",
    "\n",
    "fig, ax = plt.subplots(1,1,figsize= (2.5,2.5))\n",
    "\n",
    "def add_noise(value):\n",
    "    noise = np.random.uniform(1,1)  # Adjust the range as needed\n",
    "    return value + noise\n",
    "\n",
    "\n",
    "plt.scatter(80.00 *(1- 0.0299), 8.89*(1 - 0.8261),  marker='o', alpha = 0.7,label = 'gpt-4 + CoT mitigation') \n",
    "\n",
    "cnt=0\n",
    "for index, row in res.sort_values(by = 'False positive rate',ascending = False).iterrows():\n",
    "    cnt+=1\n",
    "\n",
    "    plt.scatter(100-row['False negative rate'], row['False positive rate'],  marker=mStyles[cnt], \n",
    "                alpha = 1,label = labels_clean[row['model']])\n",
    "\n",
    "plt.legend(bbox_to_anchor = (1,1))\n",
    "    \n",
    "plt.plot([0,100],[0,100], linestyle = '--', color = 'gray')\n",
    "plt.xlim([50,100])\n",
    "plt.ylim([0,50])\n",
    "\n",
    "plt.xticks([50,60,70,80,90,100])\n",
    "plt.yticks([0,10,20,30,40,50])\n",
    "\n",
    "plt.xlabel('True positive rate\\n(true use)')\n",
    "plt.ylabel('False positive rate\\n(counterspeech)')\n",
    "\n",
    "plt.grid(color = 'silver', alpha = 0.3)\n",
    "plt.savefig('figures/mitigation_hate.pdf',  bbox_inches=\"tight\")"
   ]
  },
  {
   "cell_type": "markdown",
   "id": "bfaa4869",
   "metadata": {},
   "source": [
    "### Calculate metrics for misinformation subtask"
   ]
  },
  {
   "cell_type": "code",
   "execution_count": 7,
   "id": "5c58f7ed",
   "metadata": {},
   "outputs": [],
   "source": [
    "df = table.loc[table.subtask=='misinfo'].reset_index()\n",
    "\n",
    "models = ['score_hamzab/roberta-fake-news-classification',\n",
    "       'label_gpt3.5', 'label_gpt4','label_gpt3.5instruct']\n",
    "thresholds = [0.5,0.5,0.5,0.5]"
   ]
  },
  {
   "cell_type": "code",
   "execution_count": 8,
   "id": "4053f693",
   "metadata": {},
   "outputs": [],
   "source": [
    "list_entries = []\n",
    "for cnt,model in enumerate(models):\n",
    "    entry = {}\n",
    "    entry['task'] = 'misinformation'\n",
    "    entry['model'] = model\n",
    "    \n",
    "    for name,gr in df.sort_values(by = 'text_original').groupby('type'):\n",
    "        if name=='disapproving':\n",
    "            list_d =  gr[model]> thresholds[cnt]\n",
    "        elif name=='original':\n",
    "            list_o =  gr[model]> thresholds[cnt]\n",
    "           \n",
    "    flagged_u, flagged_m, avg = calculate_metrics(list_o, list_d)\n",
    "    \n",
    "    \n",
    "    entry['False positive rate'] = flagged_m\n",
    "    entry['False negative rate'] = 100-flagged_u\n",
    "    entry['Average error rate'] = avg\n",
    "\n",
    "    entry[\"False negative rate\"+\" lower\"], entry[\"False negative rate\"+\" upper\"], entry[\"False positive rate\"+\" lower\"], entry[\"False positive rate\"+\" upper\"],\\\n",
    "    entry[\"Average error rate\"+\" lower\"], entry[\"Average error rate\"+\" upper\"],  entry[\"False negative rate\"+\" median\"],  entry[\"False positive rate\"+\" median\"],entry[\"Average error rate\"+\"_median\"] = \\\n",
    "    bootstrap_CI(list_o, list_d)\n",
    "    \n",
    "    list_entries.append(entry)"
   ]
  },
  {
   "cell_type": "code",
   "execution_count": 9,
   "id": "7f53097f",
   "metadata": {},
   "outputs": [],
   "source": [
    "res = pd.DataFrame(list_entries)\n",
    "res['False positive rate error'] = (res['False positive rate upper'] - res['False positive rate lower'])/2\n",
    "res['False negative rate error'] = (res['False negative rate upper'] - res['False negative rate lower'])/2\n",
    "res['Average error rate error'] = (res['False positive rate error'] + res['False negative rate error'])/2"
   ]
  },
  {
   "cell_type": "code",
   "execution_count": 10,
   "id": "7379caf8",
   "metadata": {},
   "outputs": [
    {
     "data": {
      "text/html": [
       "<div>\n",
       "<style scoped>\n",
       "    .dataframe tbody tr th:only-of-type {\n",
       "        vertical-align: middle;\n",
       "    }\n",
       "\n",
       "    .dataframe tbody tr th {\n",
       "        vertical-align: top;\n",
       "    }\n",
       "\n",
       "    .dataframe thead th {\n",
       "        text-align: right;\n",
       "    }\n",
       "</style>\n",
       "<table border=\"1\" class=\"dataframe\">\n",
       "  <thead>\n",
       "    <tr style=\"text-align: right;\">\n",
       "      <th></th>\n",
       "      <th>task</th>\n",
       "      <th>model</th>\n",
       "      <th>False positive rate</th>\n",
       "      <th>False positive rate error</th>\n",
       "      <th>False negative rate</th>\n",
       "      <th>False negative rate error</th>\n",
       "      <th>Average error rate</th>\n",
       "      <th>Average error rate error</th>\n",
       "    </tr>\n",
       "  </thead>\n",
       "  <tbody>\n",
       "    <tr>\n",
       "      <th>0</th>\n",
       "      <td>misinformation</td>\n",
       "      <td>score_hamzab/roberta-fake-news-classification</td>\n",
       "      <td>97.93</td>\n",
       "      <td>0.79</td>\n",
       "      <td>5.10</td>\n",
       "      <td>1.62</td>\n",
       "      <td>51.52</td>\n",
       "      <td>1.20</td>\n",
       "    </tr>\n",
       "    <tr>\n",
       "      <th>3</th>\n",
       "      <td>misinformation</td>\n",
       "      <td>label_gpt3.5instruct</td>\n",
       "      <td>26.12</td>\n",
       "      <td>2.62</td>\n",
       "      <td>19.44</td>\n",
       "      <td>2.59</td>\n",
       "      <td>22.78</td>\n",
       "      <td>2.60</td>\n",
       "    </tr>\n",
       "    <tr>\n",
       "      <th>1</th>\n",
       "      <td>misinformation</td>\n",
       "      <td>label_gpt3.5</td>\n",
       "      <td>22.11</td>\n",
       "      <td>2.67</td>\n",
       "      <td>13.85</td>\n",
       "      <td>2.10</td>\n",
       "      <td>17.98</td>\n",
       "      <td>2.39</td>\n",
       "    </tr>\n",
       "    <tr>\n",
       "      <th>2</th>\n",
       "      <td>misinformation</td>\n",
       "      <td>label_gpt4</td>\n",
       "      <td>10.21</td>\n",
       "      <td>2.34</td>\n",
       "      <td>8.02</td>\n",
       "      <td>1.85</td>\n",
       "      <td>9.11</td>\n",
       "      <td>2.10</td>\n",
       "    </tr>\n",
       "  </tbody>\n",
       "</table>\n",
       "</div>"
      ],
      "text/plain": [
       "             task                                          model  \\\n",
       "0  misinformation  score_hamzab/roberta-fake-news-classification   \n",
       "3  misinformation                           label_gpt3.5instruct   \n",
       "1  misinformation                                   label_gpt3.5   \n",
       "2  misinformation                                     label_gpt4   \n",
       "\n",
       "   False positive rate  False positive rate error  False negative rate  \\\n",
       "0                97.93                       0.79                 5.10   \n",
       "3                26.12                       2.62                19.44   \n",
       "1                22.11                       2.67                13.85   \n",
       "2                10.21                       2.34                 8.02   \n",
       "\n",
       "   False negative rate error  Average error rate  Average error rate error  \n",
       "0                       1.62               51.52                      1.20  \n",
       "3                       2.59               22.78                      2.60  \n",
       "1                       2.10               17.98                      2.39  \n",
       "2                       1.85                9.11                      2.10  "
      ]
     },
     "execution_count": 10,
     "metadata": {},
     "output_type": "execute_result"
    }
   ],
   "source": [
    "(res[['task', 'model', 'False positive rate', 'False positive rate error',\n",
    "      'False negative rate','False negative rate error',  \n",
    "      'Average error rate','Average error rate error']].sort_values(by = 'Average error rate', ascending = False)).round(2)"
   ]
  },
  {
   "cell_type": "code",
   "execution_count": 11,
   "id": "c5f0360a",
   "metadata": {},
   "outputs": [
    {
     "data": {
      "image/png": "[encoded data removed]",
      "text/plain": [
       "<Figure size 250x250 with 1 Axes>"
      ]
     },
     "metadata": {},
     "output_type": "display_data"
    }
   ],
   "source": [
    "fig, ax = plt.subplots(1,1,figsize= (2.5,2.5))\n",
    "\n",
    "plt.scatter(91.98 *(1- 0.0261), 10.21*(1 - 0.5906), marker='o', alpha = 0.7,label = 'gpt-4 + CoT mitigation')\n",
    "\n",
    "cnt=0\n",
    "for index, row in res.sort_values(by = 'False positive rate', ascending = True).iterrows(): \n",
    "    cnt+=1\n",
    "    if row['model'] == 'score_hamzab/roberta-fake-news-classification':\n",
    "        continue\n",
    "\n",
    "    plt.scatter(100-row['False negative rate'], row['False positive rate'],  marker=mStyles[cnt], \n",
    "                alpha = 1,label = labels_clean[row['model']])\n",
    "\n",
    "plt.legend(bbox_to_anchor = (1,1))\n",
    "    \n",
    "plt.plot([0,100],[0,100], linestyle = '--', color = 'gray')\n",
    "plt.xlim([50,100])\n",
    "plt.ylim([0,50])\n",
    "\n",
    "plt.xticks([50,60,70,80,90,100])\n",
    "plt.yticks([0,10,20,30,40,50])\n",
    "\n",
    "plt.xlabel('True positive rate\\n(true use)')\n",
    "plt.ylabel('False positive rate\\n(counterspeech)')\n",
    "\n",
    "plt.grid(color = 'silver', alpha = 0.3)\n",
    "plt.savefig('figures/mitigation_misinfo.pdf',  bbox_inches=\"tight\")"
   ]
  },
  {
   "cell_type": "markdown",
   "id": "cd828578",
   "metadata": {},
   "source": [
    "### Propagation statistics for hate speech (Table 10)"
   ]
  },
  {
   "cell_type": "code",
   "execution_count": 12,
   "id": "4ee8534f",
   "metadata": {},
   "outputs": [],
   "source": [
    "df = table.loc[table.subtask=='hate'].reset_index()"
   ]
  },
  {
   "cell_type": "code",
   "execution_count": 13,
   "id": "e25aac9a",
   "metadata": {},
   "outputs": [],
   "source": [
    "t = pd.read_csv('data/UM_hate_misclassified.csv')"
   ]
  },
  {
   "cell_type": "code",
   "execution_count": 14,
   "id": "3eeb450d",
   "metadata": {},
   "outputs": [
    {
     "name": "stdout",
     "output_type": "stream",
     "text": [
      "53.12\n",
      "19.35\n",
      "12.5\n"
     ]
    }
   ],
   "source": [
    "print(round(100*df.loc[(df.type == 'disapproving') & (df['text'].isin(t['text']))]['label_gpt3.5instruct'].mean(),2))\n",
    "print(round(100*df.loc[(df.type == 'disapproving') & (df['text'].isin(t['text']))]['label_gpt3.5'].mean(),2))\n",
    "print(round(100*df.loc[(df.type == 'disapproving') & (df['text'].isin(t['text']))]['label_gpt4'].mean(),2))"
   ]
  },
  {
   "cell_type": "code",
   "execution_count": 15,
   "id": "83642034",
   "metadata": {},
   "outputs": [
    {
     "name": "stdout",
     "output_type": "stream",
     "text": [
      "17 15\n",
      "6 25\n",
      "4 28\n"
     ]
    }
   ],
   "source": [
    "print(sum(df.loc[(df.type == 'disapproving') & (df['text'].isin(t['text']))]['label_gpt3.5instruct']==1), sum(df.loc[(df.type == 'disapproving') & (df['text'].isin(t['text']))]['label_gpt3.5instruct']==0))\n",
    "print(sum(df.loc[(df.type == 'disapproving') & (df['text'].isin(t['text']))]['label_gpt3.5']==1), sum(df.loc[(df.type == 'disapproving') & (df['text'].isin(t['text']))]['label_gpt3.5']==0))\n",
    "print(sum(df.loc[(df.type == 'disapproving') & (df['text'].isin(t['text']))]['label_gpt4']==1), sum(df.loc[(df.type == 'disapproving') & (df['text'].isin(t['text']))]['label_gpt4']==0))"
   ]
  },
  {
   "cell_type": "code",
   "execution_count": 16,
   "id": "803db739",
   "metadata": {},
   "outputs": [
    {
     "name": "stdout",
     "output_type": "stream",
     "text": [
      "10.34\n",
      "7.02\n",
      "6.9\n"
     ]
    }
   ],
   "source": [
    "print(round(100*df.loc[(df.type == 'disapproving') & (~df['text'].isin(t['text']))]['label_gpt3.5instruct'].mean(),2))\n",
    "print(round(100*df.loc[(df.type == 'disapproving') & (~df['text'].isin(t['text']))]['label_gpt3.5'].mean(),2))\n",
    "print(round(100*df.loc[(df.type == 'disapproving') & (~df['text'].isin(t['text']))]['label_gpt4'].mean(),2))"
   ]
  },
  {
   "cell_type": "code",
   "execution_count": 17,
   "id": "195efd7a",
   "metadata": {},
   "outputs": [
    {
     "name": "stdout",
     "output_type": "stream",
     "text": [
      "6 52\n",
      "4 53\n",
      "4 54\n"
     ]
    }
   ],
   "source": [
    "print(sum(df.loc[(df.type == 'disapproving') & (~df['text'].isin(t['text']))]['label_gpt3.5instruct']==1), sum(df.loc[(df.type == 'disapproving') & (~df['text'].isin(t['text']))]['label_gpt3.5instruct']==0))\n",
    "print(sum(df.loc[(df.type == 'disapproving') & (~df['text'].isin(t['text']))]['label_gpt3.5']==1), sum(df.loc[(df.type == 'disapproving') & (~df['text'].isin(t['text']))]['label_gpt3.5']==0))\n",
    "print(sum(df.loc[(df.type == 'disapproving') & (~df['text'].isin(t['text']))]['label_gpt4']==1), sum(df.loc[(df.type == 'disapproving') & (~df['text'].isin(t['text']))]['label_gpt4']==0))"
   ]
  },
  {
   "cell_type": "code",
   "execution_count": 18,
   "id": "345c53de",
   "metadata": {},
   "outputs": [
    {
     "name": "stdout",
     "output_type": "stream",
     "text": [
      "19.84 8.428010851474988e-06\n",
      "3.03 0.08151960236809787\n",
      "0.8 0.37123799720517425\n"
     ]
    }
   ],
   "source": [
    "test = chi2_contingency([[17,15],[6,52]],correction=False)\n",
    "print(round(test[0],2), test[1])\n",
    "\n",
    "test = chi2_contingency([[6,25],[4,53]],correction=False)\n",
    "print(round(test[0],2), test[1])\n",
    "\n",
    "test = chi2_contingency([[4,28],[4,54]],correction=False)\n",
    "print(round(test[0],2), test[1])"
   ]
  },
  {
   "cell_type": "markdown",
   "id": "58d9942c",
   "metadata": {},
   "source": [
    "### Quotation marks for hate (Table 7)"
   ]
  },
  {
   "cell_type": "code",
   "execution_count": 19,
   "id": "c42b81e8",
   "metadata": {},
   "outputs": [
    {
     "name": "stdout",
     "output_type": "stream",
     "text": [
      "22.89\n",
      "9.88\n",
      "7.23\n"
     ]
    }
   ],
   "source": [
    "print(round(100*df.loc[(df.type == 'disapproving') & (~df['text'].apply(lambda x: '\"' in x))]['label_gpt3.5instruct'].mean(),2))\n",
    "print(round(100*df.loc[(df.type == 'disapproving') & (~df['text'].apply(lambda x: '\"' in x))]['label_gpt3.5'].mean(),2))\n",
    "print(round(100*df.loc[(df.type == 'disapproving') & (~df['text'].apply(lambda x: '\"' in x))]['label_gpt4'].mean(),2))"
   ]
  },
  {
   "cell_type": "code",
   "execution_count": 20,
   "id": "f40583c3",
   "metadata": {},
   "outputs": [
    {
     "name": "stdout",
     "output_type": "stream",
     "text": [
      "19 64\n",
      "8 73\n",
      "6 77\n"
     ]
    }
   ],
   "source": [
    "print(sum(df.loc[(df.type == 'disapproving') & (~df['text'].apply(lambda x: '\"' in x))]['label_gpt3.5instruct']==1), sum(df.loc[(df.type == 'disapproving') & (~df['text'].apply(lambda x: '\"' in x))]['label_gpt3.5instruct']==0))\n",
    "print(sum(df.loc[(df.type == 'disapproving') & (~df['text'].apply(lambda x: '\"' in x))]['label_gpt3.5']==1), sum(df.loc[(df.type == 'disapproving') & (~df['text'].apply(lambda x: '\"' in x))]['label_gpt3.5']==0))\n",
    "print(sum(df.loc[(df.type == 'disapproving') & (~df['text'].apply(lambda x: '\"' in x))]['label_gpt4']==1), sum(df.loc[(df.type == 'disapproving') & (~df['text'].apply(lambda x: '\"' in x))]['label_gpt4']==0))"
   ]
  },
  {
   "cell_type": "code",
   "execution_count": 21,
   "id": "ea0bba86",
   "metadata": {},
   "outputs": [
    {
     "name": "stdout",
     "output_type": "stream",
     "text": [
      "57.14\n",
      "28.57\n",
      "28.57\n"
     ]
    }
   ],
   "source": [
    "print(round(100*df.loc[(df.type == 'disapproving') & (df['text'].apply(lambda x: '\"' in x))]['label_gpt3.5instruct'].mean(),2))\n",
    "print(round(100*df.loc[(df.type == 'disapproving') & (df['text'].apply(lambda x: '\"' in x))]['label_gpt3.5'].mean(),2))\n",
    "print(round(100*df.loc[(df.type == 'disapproving') & (df['text'].apply(lambda x: '\"' in x))]['label_gpt4'].mean(),2))"
   ]
  },
  {
   "cell_type": "code",
   "execution_count": 22,
   "id": "11385022",
   "metadata": {},
   "outputs": [
    {
     "name": "stdout",
     "output_type": "stream",
     "text": [
      "4 3\n",
      "2 5\n",
      "2 5\n"
     ]
    }
   ],
   "source": [
    "print(sum(df.loc[(df.type == 'disapproving') & (df['text'].apply(lambda x: '\"' in x))]['label_gpt3.5instruct']==1), sum(df.loc[(df.type == 'disapproving') & (df['text'].apply(lambda x: '\"' in x))]['label_gpt3.5instruct']==0))\n",
    "print(sum(df.loc[(df.type == 'disapproving') & (df['text'].apply(lambda x: '\"' in x))]['label_gpt3.5']==1), sum(df.loc[(df.type == 'disapproving') & (df['text'].apply(lambda x: '\"' in x))]['label_gpt3.5']==0))\n",
    "print(sum(df.loc[(df.type == 'disapproving') & (df['text'].apply(lambda x: '\"' in x))]['label_gpt4']==1), sum(df.loc[(df.type == 'disapproving') & (df['text'].apply(lambda x: '\"' in x))]['label_gpt4']==0))"
   ]
  },
  {
   "cell_type": "code",
   "execution_count": 23,
   "id": "0a9e1414",
   "metadata": {},
   "outputs": [
    {
     "name": "stdout",
     "output_type": "stream",
     "text": [
      "3.98 0.046021817621679104\n",
      "2.24 0.134854095614823\n",
      "3.63 0.05671852576793281\n"
     ]
    }
   ],
   "source": [
    "test = chi2_contingency([[19,64],[4,3]],correction=False)\n",
    "print(round(test[0],2), test[1])\n",
    "\n",
    "test = chi2_contingency([[8,73],[2,5]],correction=False)\n",
    "print(round(test[0],2), test[1])\n",
    "\n",
    "test = chi2_contingency([[6,77],[2,5]],correction=False)\n",
    "print(round(test[0],2), test[1])"
   ]
  },
  {
   "cell_type": "markdown",
   "id": "a21685a8",
   "metadata": {},
   "source": [
    "### Propagation statistics for misinformation (Table 10)"
   ]
  },
  {
   "cell_type": "code",
   "execution_count": 24,
   "id": "50db3700",
   "metadata": {},
   "outputs": [],
   "source": [
    "df = table.loc[table.subtask=='misinfo'].reset_index()"
   ]
  },
  {
   "cell_type": "code",
   "execution_count": 25,
   "id": "8ac36e4c",
   "metadata": {},
   "outputs": [],
   "source": [
    "t = pd.read_csv('data/UM_misinfo_misclassified.csv')"
   ]
  },
  {
   "cell_type": "code",
   "execution_count": 26,
   "id": "b2cf874c",
   "metadata": {},
   "outputs": [
    {
     "name": "stdout",
     "output_type": "stream",
     "text": [
      "31.41\n",
      "28.99\n",
      "16.03\n"
     ]
    }
   ],
   "source": [
    "print(round(100*df.loc[(df.type == 'disapproving') & (df['text'].isin(t['text']))]['label_gpt3.5instruct'].mean(),2))\n",
    "print(round(100*df.loc[(df.type == 'disapproving') & (df['text'].isin(t['text']))]['label_gpt3.5'].mean(),2))\n",
    "print(round(100*df.loc[(df.type == 'disapproving') & (df['text'].isin(t['text']))]['label_gpt4'].mean(),2))"
   ]
  },
  {
   "cell_type": "code",
   "execution_count": 27,
   "id": "436021bd",
   "metadata": {},
   "outputs": [
    {
     "name": "stdout",
     "output_type": "stream",
     "text": [
      "131 286\n",
      "120 294\n",
      "67 351\n"
     ]
    }
   ],
   "source": [
    "print(sum(df.loc[(df.type == 'disapproving') & (df['text'].isin(t['text']))]['label_gpt3.5instruct']==1), sum(df.loc[(df.type == 'disapproving') & (df['text'].isin(t['text']))]['label_gpt3.5instruct']==0))\n",
    "print(sum(df.loc[(df.type == 'disapproving') & (df['text'].isin(t['text']))]['label_gpt3.5']==1), sum(df.loc[(df.type == 'disapproving') & (df['text'].isin(t['text']))]['label_gpt3.5']==0))\n",
    "print(sum(df.loc[(df.type == 'disapproving') & (df['text'].isin(t['text']))]['label_gpt4']==1), sum(df.loc[(df.type == 'disapproving') & (df['text'].isin(t['text']))]['label_gpt4']==0))"
   ]
  },
  {
   "cell_type": "code",
   "execution_count": 28,
   "id": "05e59a9a",
   "metadata": {},
   "outputs": [
    {
     "name": "stdout",
     "output_type": "stream",
     "text": [
      "20.84\n",
      "15.5\n",
      "4.2\n"
     ]
    }
   ],
   "source": [
    "print(round(100*df.loc[(df.type == 'disapproving') & (~df['text'].isin(t['text']))]['label_gpt3.5instruct'].mean(),2))\n",
    "print(round(100*df.loc[(df.type == 'disapproving') & (~df['text'].isin(t['text']))]['label_gpt3.5'].mean(),2))\n",
    "print(round(100*df.loc[(df.type == 'disapproving') & (~df['text'].isin(t['text']))]['label_gpt4'].mean(),2))"
   ]
  },
  {
   "cell_type": "code",
   "execution_count": 29,
   "id": "fdfe32ca",
   "metadata": {},
   "outputs": [
    {
     "name": "stdout",
     "output_type": "stream",
     "text": [
      "84 319\n",
      "62 338\n",
      "17 388\n"
     ]
    }
   ],
   "source": [
    "print(sum(df.loc[(df.type == 'disapproving') & (~df['text'].isin(t['text']))]['label_gpt3.5instruct']==1), sum(df.loc[(df.type == 'disapproving') & (~df['text'].isin(t['text']))]['label_gpt3.5instruct']==0))\n",
    "print(sum(df.loc[(df.type == 'disapproving') & (~df['text'].isin(t['text']))]['label_gpt3.5']==1), sum(df.loc[(df.type == 'disapproving') & (~df['text'].isin(t['text']))]['label_gpt3.5']==0))\n",
    "print(sum(df.loc[(df.type == 'disapproving') & (~df['text'].isin(t['text']))]['label_gpt4']==1), sum(df.loc[(df.type == 'disapproving') & (~df['text'].isin(t['text']))]['label_gpt4']==0))"
   ]
  },
  {
   "cell_type": "code",
   "execution_count": 30,
   "id": "c7848b3f",
   "metadata": {},
   "outputs": [
    {
     "name": "stdout",
     "output_type": "stream",
     "text": [
      "11.3 0.0007756173195983259\n",
      "20.54 5.831966576369202e-06\n",
      "30.14 4.0211444310686455e-08\n"
     ]
    }
   ],
   "source": [
    "test = chi2_contingency([[131,286],[84,319]])\n",
    "print(round(test[0],2), test[1])\n",
    "\n",
    "test = chi2_contingency([[120,294],[62,338]])\n",
    "print(round(test[0],2), test[1])\n",
    "\n",
    "test = chi2_contingency([[67,351],[17,388]])\n",
    "print(round(test[0],2), test[1])"
   ]
  },
  {
   "cell_type": "markdown",
   "id": "2f047c7a",
   "metadata": {},
   "source": [
    "### Quotation marks for misinformation (Table 7)"
   ]
  },
  {
   "cell_type": "code",
   "execution_count": 31,
   "id": "7282bfd3",
   "metadata": {},
   "outputs": [
    {
     "name": "stdout",
     "output_type": "stream",
     "text": [
      "26.12\n",
      "21.79\n",
      "9.84\n"
     ]
    }
   ],
   "source": [
    "print(round(100*df.loc[(df.type == 'disapproving') & (~df['text'].apply(lambda x: '\"' in x))]['label_gpt3.5instruct'].mean(),2))\n",
    "print(round(100*df.loc[(df.type == 'disapproving') & (~df['text'].apply(lambda x: '\"' in x))]['label_gpt3.5'].mean(),2))\n",
    "print(round(100*df.loc[(df.type == 'disapproving') & (~df['text'].apply(lambda x: '\"' in x))]['label_gpt4'].mean(),2))"
   ]
  },
  {
   "cell_type": "code",
   "execution_count": 32,
   "id": "ea6c4631",
   "metadata": {},
   "outputs": [
    {
     "name": "stdout",
     "output_type": "stream",
     "text": [
      "30.0\n",
      "45.0\n",
      "25.0\n"
     ]
    }
   ],
   "source": [
    "print(round(100*df.loc[(df.type == 'disapproving') & (df['text'].apply(lambda x: '\"' in x))]['label_gpt3.5instruct'].mean(),2))\n",
    "print(round(100*df.loc[(df.type == 'disapproving') & (df['text'].apply(lambda x: '\"' in x))]['label_gpt3.5'].mean(),2))\n",
    "print(round(100*df.loc[(df.type == 'disapproving') & (df['text'].apply(lambda x: '\"' in x))]['label_gpt4'].mean(),2))"
   ]
  },
  {
   "cell_type": "code",
   "execution_count": 33,
   "id": "2556c0cc",
   "metadata": {},
   "outputs": [
    {
     "name": "stdout",
     "output_type": "stream",
     "text": [
      "209 591\n",
      "173 621\n",
      "79 724\n"
     ]
    }
   ],
   "source": [
    "print(sum(df.loc[(df.type == 'disapproving') & (~df['text'].apply(lambda x: '\"' in x))]['label_gpt3.5instruct']==1), sum(df.loc[(df.type == 'disapproving') & (~df['text'].apply(lambda x: '\"' in x))]['label_gpt3.5instruct']==0))\n",
    "print(sum(df.loc[(df.type == 'disapproving') & (~df['text'].apply(lambda x: '\"' in x))]['label_gpt3.5']==1), sum(df.loc[(df.type == 'disapproving') & (~df['text'].apply(lambda x: '\"' in x))]['label_gpt3.5']==0))\n",
    "print(sum(df.loc[(df.type == 'disapproving') & (~df['text'].apply(lambda x: '\"' in x))]['label_gpt4']==1), sum(df.loc[(df.type == 'disapproving') & (~df['text'].apply(lambda x: '\"' in x))]['label_gpt4']==0))"
   ]
  },
  {
   "cell_type": "code",
   "execution_count": 34,
   "id": "53a05bca",
   "metadata": {},
   "outputs": [
    {
     "name": "stdout",
     "output_type": "stream",
     "text": [
      "6 14\n",
      "9 11\n",
      "5 15\n"
     ]
    }
   ],
   "source": [
    "print(sum(df.loc[(df.type == 'disapproving') & (df['text'].apply(lambda x: '\"' in x))]['label_gpt3.5instruct']==1), sum(df.loc[(df.type == 'disapproving') & (df['text'].apply(lambda x: '\"' in x))]['label_gpt3.5instruct']==0))\n",
    "print(sum(df.loc[(df.type == 'disapproving') & (df['text'].apply(lambda x: '\"' in x))]['label_gpt3.5']==1), sum(df.loc[(df.type == 'disapproving') & (df['text'].apply(lambda x: '\"' in x))]['label_gpt3.5']==0))\n",
    "print(sum(df.loc[(df.type == 'disapproving') & (df['text'].apply(lambda x: '\"' in x))]['label_gpt4']==1), sum(df.loc[(df.type == 'disapproving') & (df['text'].apply(lambda x: '\"' in x))]['label_gpt4']==0))"
   ]
  },
  {
   "cell_type": "code",
   "execution_count": 35,
   "id": "30a32fec",
   "metadata": {},
   "outputs": [
    {
     "name": "stdout",
     "output_type": "stream",
     "text": [
      "0.15 0.6971488346906844\n",
      "6.05 0.013868951266872421\n",
      "4.89 0.026938827655631145\n"
     ]
    }
   ],
   "source": [
    "test = chi2_contingency([[209,591],[6,14]],correction=False)\n",
    "print(round(test[0],2), test[1])\n",
    "\n",
    "test = chi2_contingency([[173,621],[9,11]],correction=False)\n",
    "print(round(test[0],2), test[1])\n",
    "\n",
    "test = chi2_contingency([[79,724],[5,15]],correction=False)\n",
    "print(round(test[0],2), test[1])"
   ]
  },
  {
   "cell_type": "markdown",
   "id": "43c817a3",
   "metadata": {},
   "source": [
    "### Print propagation statistics jointly (Table 4)"
   ]
  },
  {
   "cell_type": "code",
   "execution_count": 36,
   "id": "8716d97f",
   "metadata": {},
   "outputs": [
    {
     "name": "stdout",
     "output_type": "stream",
     "text": [
      "20.58 5.714809848436703e-06\n",
      "25.08 5.514312779985837e-07\n",
      "30.6 3.1692689401287134e-08\n"
     ]
    }
   ],
   "source": [
    "test = chi2_contingency([[131 + 17,286 + 15],[84 + 6,319 + 52]])\n",
    "print(round(test[0],2), test[1])\n",
    "\n",
    "test = chi2_contingency([[120 + 6,294 + 25],[62 + 4,338 + 53]])\n",
    "print(round(test[0],2), test[1])\n",
    "\n",
    "test = chi2_contingency([[67 + 4,351 + 28],[17 + 4,388 + 54]])\n",
    "print(round(test[0],2), test[1])"
   ]
  },
  {
   "cell_type": "code",
   "execution_count": 37,
   "id": "2b35dfbc",
   "metadata": {},
   "outputs": [
    {
     "name": "stdout",
     "output_type": "stream",
     "text": [
      "32.962138084632514\n",
      "28.314606741573034\n",
      "15.777777777777779\n"
     ]
    }
   ],
   "source": [
    "print(100*(17 + 131) / ((17+15) + (131+286) ) )\n",
    "print(100*(6 + 120) / ((6 + 25) + (120 + 294) ) )\n",
    "print(100*(4 + 67) / ((4 + 28) + (67 + 351) ) )"
   ]
  },
  {
   "cell_type": "code",
   "execution_count": 38,
   "id": "a0ef75d6",
   "metadata": {},
   "outputs": [
    {
     "name": "stdout",
     "output_type": "stream",
     "text": [
      "19.522776572668114\n",
      "14.442013129102845\n",
      "4.535637149028077\n"
     ]
    }
   ],
   "source": [
    "print(100*(6 + 84) / ((6 + 52 ) + (84 + 319) ) )\n",
    "print(100*(4 + 62) / ((4 + 53) + (62 + 338) ) )\n",
    "print(100*(4 + 17) / ((4 + 54) + (17 + 388) ) )"
   ]
  }
 ],
 "metadata": {
  "kernelspec": {
   "display_name": "Python 3 (ipykernel)",
   "language": "python",
   "name": "python3"
  },
  "language_info": {
   "codemirror_mode": {
    "name": "ipython",
    "version": 3
   },
   "file_extension": ".py",
   "mimetype": "text/x-python",
   "name": "python",
   "nbconvert_exporter": "python",
   "pygments_lexer": "ipython3",
   "version": "3.9.13"
  }
 },
 "nbformat": 4,
 "nbformat_minor": 5
}
