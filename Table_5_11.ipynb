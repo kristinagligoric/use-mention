{
 "cells": [
  {
   "cell_type": "code",
   "execution_count": 1,
   "id": "0fdb417d",
   "metadata": {},
   "outputs": [],
   "source": [
    "import pandas as pd\n",
    "import numpy as np\n",
    "\n",
    "df = pd.read_csv('data/identity.csv')\n",
    "\n",
    "def process_labels(x):\n",
    "    t = str(x).lower().strip('\"').strip(' ').strip(' ').strip('[').strip('(').strip('\\n').strip(' ').strip('.')\n",
    "    if t=='hateful' or t=='h' or t=='hate':\n",
    "        return 1\n",
    "    elif t=='not hateful':\n",
    "        return 0\n",
    "    elif 'not' in t:\n",
    "        return 0\n",
    "    else:\n",
    "        return np.nan\n",
    "    \n",
    "df['label_gpt3.5'] = df['label_gpt3.5'].apply(lambda x: process_labels(x))  \n",
    "df['label_gpt4'] = df['label_gpt4'].apply(lambda x: process_labels(x))"
   ]
  },
  {
   "cell_type": "markdown",
   "id": "2ed99ee9",
   "metadata": {},
   "source": [
    "### Table 5 statistics"
   ]
  },
  {
   "cell_type": "code",
   "execution_count": 2,
   "id": "a30d3e7b",
   "metadata": {},
   "outputs": [
    {
     "data": {
      "text/plain": [
       "target\n",
       "MIGRANTS     0.39\n",
       "OTHER        0.89\n",
       "WOMEN        2.41\n",
       "DISABLED     4.00\n",
       "LGBT+        6.77\n",
       "MUSLIMS      6.80\n",
       "POC          9.09\n",
       "JEWS        14.15\n",
       "Name: label_gpt3.5, dtype: float64"
      ]
     },
     "execution_count": 2,
     "metadata": {},
     "output_type": "execute_result"
    }
   ],
   "source": [
    "(df.loc[df.type=='disapproving'].groupby('target')['label_gpt3.5'].mean()*100).round(2).sort_values()"
   ]
  },
  {
   "cell_type": "code",
   "execution_count": 3,
   "id": "a060a62b",
   "metadata": {},
   "outputs": [
    {
     "data": {
      "text/plain": [
       "target\n",
       "DISABLED     0.00\n",
       "MIGRANTS     0.76\n",
       "WOMEN        1.18\n",
       "OTHER        1.77\n",
       "LGBT+        2.22\n",
       "MUSLIMS      4.83\n",
       "POC          9.09\n",
       "JEWS        12.15\n",
       "Name: label_gpt4, dtype: float64"
      ]
     },
     "execution_count": 3,
     "metadata": {},
     "output_type": "execute_result"
    }
   ],
   "source": [
    "(df.loc[df.type=='disapproving'].groupby('target')['label_gpt4'].mean()*100).round(2).sort_values()"
   ]
  },
  {
   "cell_type": "markdown",
   "id": "9240c84d",
   "metadata": {},
   "source": [
    "### Table 11 statistics"
   ]
  },
  {
   "cell_type": "code",
   "execution_count": 4,
   "id": "8def9fa5",
   "metadata": {},
   "outputs": [
    {
     "data": {
      "text/plain": [
       "target\n",
       "DISABLED    96.00\n",
       "JEWS        98.11\n",
       "LGBT+       80.45\n",
       "MIGRANTS    53.64\n",
       "MUSLIMS     85.51\n",
       "OTHER       56.25\n",
       "POC         72.73\n",
       "WOMEN       85.71\n",
       "Name: label_gpt3.5, dtype: float64"
      ]
     },
     "execution_count": 4,
     "metadata": {},
     "output_type": "execute_result"
    }
   ],
   "source": [
    "(df.loc[df.type=='original'].groupby('target')['label_gpt3.5'].mean()*100).round(2)"
   ]
  }
 ],
 "metadata": {
  "kernelspec": {
   "display_name": "Python 3 (ipykernel)",
   "language": "python",
   "name": "python3"
  },
  "language_info": {
   "codemirror_mode": {
    "name": "ipython",
    "version": 3
   },
   "file_extension": ".py",
   "mimetype": "text/x-python",
   "name": "python",
   "nbconvert_exporter": "python",
   "pygments_lexer": "ipython3",
   "version": "3.9.13"
  }
 },
 "nbformat": 4,
 "nbformat_minor": 5
}
